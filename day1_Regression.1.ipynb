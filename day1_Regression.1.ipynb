{
 "cells": [
  {
   "cell_type": "markdown",
   "metadata": {
    "collapsed": true
   },
   "source": [
    "## Correlation and Regression\n",
    "\n",
    "### Correlation and regression are the most commonly used techniques for investigating relationship between two quantitative variables.\n",
    "\n",
    "####  Strength of the relationship is quantified by Correlation Coefficient.\n",
    "\n",
    "#### Relationship in the form of an equation is expressed by the regression.\n"
   ]
  },
  {
   "cell_type": "markdown",
   "metadata": {},
   "source": [
    "$R^2$ term is the coefficient of determination and it reflects how well the model fits the observed data.\n",
    "\n",
    "The coefficient of determination is given by $R^2$ = 1 - $\\frac{SSE}{SST}$\n",
    "\n",
    "* Let y be the observed response.\n",
    "* $\\hat{y}$ be the predicted value for the response\n",
    "* $\\overline{y}$ be the mean of the response\n",
    "\n",
    "SSE = $\\sum_{i=1}^{n}{(y_i - \\hat{y}_i)}^2$\n",
    "\n",
    "SST = $\\sum_{i=1}^{n}{(y_i - \\overline{y}_i)}^2$"
   ]
  },
  {
   "cell_type": "markdown",
   "metadata": {},
   "source": [
    "### Example 1\n",
    "\n",
    "The dataset, *mtcars* is an in-built data set about cars which contains 32 observations and 11 variables. \n",
    "\n",
    "https://stat.ethz.ch/R-manual/R-devel/library/datasets/html/mtcars.html\n",
    "\n",
    "The data was extracted from the 1974 Motor Trend US magazine, and comprises fuel consumption and 10 aspects of automobile design and performance for 32 automobiles (1973–74 models). \n",
    "\n",
    "| Sl No | Variable | Description |\n",
    "| ---- | ---------------- | ------------------------------------- |\n",
    "| 1 | mpg | Miles/(US) gallon | \n",
    "| 2 | cyl | Number of cylinders | \n",
    "| 3 | disp | Displacement (cu.in.) |  \n",
    "| 4 | hp | Gross horsepower  |  \n",
    "| 5 | drat | Rear axle ratio | \n",
    "| 6 | wt | Weight (1000 lbs) | \n",
    "| 7 | qsec | 1/4 mile time | \n",
    "| 8 | vs | Engine (0 = V-shaped, 1 = straight) | \n",
    "| 9 | am | Transmission (0 = automatic, 1 = manual)  | \n",
    "| 10 | gear | Number of forward gears  | \n",
    "| 11 | carb | Number of carburetors  | "
   ]
  },
  {
   "cell_type": "markdown",
   "metadata": {},
   "source": [
    "#### a.\tConstruct a scatter plot to show the relationship between the variables cars.mpg and cars.wt\n",
    "\n",
    "#### b.\tMeasure the relative strength of a linear relationship between the cars.mpg and cars.wt by calculating the sample correlation coefficient\n",
    "\n",
    "#### c.\tGive your inference on the relationship between these variables\n",
    "\n",
    "#### d.\tGive the simple linear regression equation between cars.mpg and cars.wt\n",
    "\n",
    "#### e. Predict the mpg of the car for wt = 3000 lbs"
   ]
  },
  {
   "cell_type": "code",
   "execution_count": 1,
   "metadata": {},
   "outputs": [],
   "source": [
    "import pandas            as pd\n",
    "import numpy             as np\n",
    "import matplotlib.pyplot as plt\n",
    "import seaborn           as sns\n",
    "import statsmodels.api   as sm"
   ]
  },
  {
   "cell_type": "code",
   "execution_count": 3,
   "metadata": {},
   "outputs": [
    {
     "name": "stdout",
     "output_type": "stream",
     "text": [
      "      Mazda RX4  Mazda RX4 Wag  Datsun 710  Hornet 4 Drive\n",
      "mpg       21.00         21.000       22.80          21.400\n",
      "cyl        6.00          6.000        4.00           6.000\n",
      "disp     160.00        160.000      108.00         258.000\n",
      "hp       110.00        110.000       93.00         110.000\n",
      "drat       3.90          3.900        3.85           3.080\n",
      "wt         2.62          2.875        2.32           3.215\n",
      "qsec      16.46         17.020       18.61          19.440\n",
      "vs         0.00          0.000        1.00           1.000\n",
      "am         1.00          1.000        1.00           0.000\n",
      "gear       4.00          4.000        4.00           3.000\n",
      "carb       4.00          4.000        1.00           1.000\n",
      "<class 'pandas.core.frame.DataFrame'>\n",
      "Index: 32 entries, Mazda RX4 to Volvo 142E\n",
      "Data columns (total 11 columns):\n",
      "mpg     32 non-null float64\n",
      "cyl     32 non-null int64\n",
      "disp    32 non-null float64\n",
      "hp      32 non-null int64\n",
      "drat    32 non-null float64\n",
      "wt      32 non-null float64\n",
      "qsec    32 non-null float64\n",
      "vs      32 non-null int64\n",
      "am      32 non-null int64\n",
      "gear    32 non-null int64\n",
      "carb    32 non-null int64\n",
      "dtypes: float64(5), int64(6)\n",
      "memory usage: 3.0+ KB\n",
      "None\n"
     ]
    }
   ],
   "source": [
    "cars = sm.datasets.get_rdataset('mtcars').data\n",
    "print(cars.head(4).T)\n",
    "print(cars.info())"
   ]
  },
  {
   "cell_type": "markdown",
   "metadata": {},
   "source": [
    "#### Answer\n",
    "\n",
    "a.\tConstruct a scatter plot to show the relationship between the variables cars.mpg and cars.wt"
   ]
  },
  {
   "cell_type": "markdown",
   "metadata": {},
   "source": [
    "#### Scatter plots are made using regplot() function of the seaborn library.\n",
    "\n",
    "#### This plot draws a linear regression fit by default.\n",
    "\n",
    "####  We provide two input variables, cars.mpg and cars.wt and confidence interval of 95 as size of the confidence interval for the regression estimate."
   ]
  },
  {
   "cell_type": "code",
   "execution_count": 3,
   "metadata": {},
   "outputs": [
    {
     "data": {
      "image/png": "[encoded data removed]",
      "text/plain": [
       "<matplotlib.figure.Figure at 0x1dd2a612710>"
      ]
     },
     "metadata": {},
     "output_type": "display_data"
    }
   ],
   "source": [
    "sns.regplot(x=cars.mpg, y=cars.wt, ci = 95)\n",
    "\n",
    "corcoef = np.corrcoef(cars.mpg, cars.wt)[0,1]\n",
    "\n",
    "text_cc = '\\n\\n\\n\\ncorrelation coefficient is %1.4f'%corcoef\n",
    "plt.title('Scatter plot MPG Vs Weight')\n",
    "plt.suptitle(text_cc)\n",
    "plt.gcf().tight_layout()\n",
    "# plt.text(15,6.5,text_cc)\n",
    "\n",
    "plt.show()"
   ]
  },
  {
   "cell_type": "code",
   "execution_count": 5,
   "metadata": {},
   "outputs": [
    {
     "data": {
      "image/png": "[encoded data removed]",
      "text/plain": [
       "<Figure size 1296x1296 with 2 Axes>"
      ]
     },
     "metadata": {
      "needs_background": "light"
     },
     "output_type": "display_data"
    }
   ],
   "source": [
    "plt.figure(figsize=(18,18)) #setting figure size\n",
    "sns.heatmap(cars.corr(), annot=True,vmax=1,vmin=-1,cmap='RdBu')\n",
    "plt.show()"
   ]
  },
  {
   "cell_type": "markdown",
   "metadata": {},
   "source": [
    "#### b.\tMeasure the relative strength of a linear relationship between the cars.mpg and cars.wt by calculating the sample correlation coefficient"
   ]
  },
  {
   "cell_type": "markdown",
   "metadata": {},
   "source": [
    "Numpy corrcoef() returns the *Pearson product-moment correlation coefficients*."
   ]
  },
  {
   "cell_type": "code",
   "execution_count": 5,
   "metadata": {},
   "outputs": [
    {
     "name": "stdout",
     "output_type": "stream",
     "text": [
      "\n",
      "Correlation coefficient between mpg and wt is -0.87\n"
     ]
    }
   ],
   "source": [
    "print('\\nCorrelation coefficient between mpg and wt is %1.2f' %np.corrcoef(cars.mpg, cars.wt)[0,1])"
   ]
  },
  {
   "cell_type": "markdown",
   "metadata": {},
   "source": [
    "#### c.\tGive your inference on the relationship between these variables"
   ]
  },
  {
   "cell_type": "markdown",
   "metadata": {},
   "source": [
    "There is a strong negative linear relationship between miles per gallon and the weight of the car since the correlation coefficient is -87%"
   ]
  },
  {
   "cell_type": "markdown",
   "metadata": {},
   "source": [
    "#### d.\tGive the simple linear regression equation between cars.mpg and cars.wt"
   ]
  },
  {
   "cell_type": "markdown",
   "metadata": {},
   "source": [
    "There are two main ways to perform linear regression in Python.\n",
    "\n",
    "https://towardsdatascience.com/simple-and-multiple-linear-regression-in-python-c928425168f9\n",
    "\n",
    "* 1) Statsmodels\n",
    "* 2) scikit-learn"
   ]
  },
  {
   "cell_type": "markdown",
   "metadata": {},
   "source": [
    "## 1) Use the Linear Regression in Statsmodels.\n",
    "\n",
    "We use statsmodels.api.OLS() to fit a regression line that would minimize the square of distance from the regression line. \n",
    "We try to fit a regression line between an independent variable, mpg and a dependent variable, wt.\n",
    "\n",
    "Please note that statsmodels does not add a constant by default."
   ]
  },
  {
   "cell_type": "code",
   "execution_count": 6,
   "metadata": {},
   "outputs": [
    {
     "data": {
      "text/html": [
       "<table class=\"simpletable\">\n",
       "<caption>OLS Regression Results</caption>\n",
       "<tr>\n",
       "  <th>Dep. Variable:</th>           <td>mpg</td>       <th>  R-squared:         </th> <td>   0.753</td>\n",
       "</tr>\n",
       "<tr>\n",
       "  <th>Model:</th>                   <td>OLS</td>       <th>  Adj. R-squared:    </th> <td>   0.745</td>\n",
       "</tr>\n",
       "<tr>\n",
       "  <th>Method:</th>             <td>Least Squares</td>  <th>  F-statistic:       </th> <td>   91.38</td>\n",
       "</tr>\n",
       "<tr>\n",
       "  <th>Date:</th>             <td>Sat, 01 Dec 2018</td> <th>  Prob (F-statistic):</th> <td>1.29e-10</td>\n",
       "</tr>\n",
       "<tr>\n",
       "  <th>Time:</th>                 <td>17:11:42</td>     <th>  Log-Likelihood:    </th> <td> -80.015</td>\n",
       "</tr>\n",
       "<tr>\n",
       "  <th>No. Observations:</th>      <td>    32</td>      <th>  AIC:               </th> <td>   164.0</td>\n",
       "</tr>\n",
       "<tr>\n",
       "  <th>Df Residuals:</th>          <td>    30</td>      <th>  BIC:               </th> <td>   167.0</td>\n",
       "</tr>\n",
       "<tr>\n",
       "  <th>Df Model:</th>              <td>     1</td>      <th>                     </th>     <td> </td>   \n",
       "</tr>\n",
       "<tr>\n",
       "  <th>Covariance Type:</th>      <td>nonrobust</td>    <th>                     </th>     <td> </td>   \n",
       "</tr>\n",
       "</table>\n",
       "<table class=\"simpletable\">\n",
       "<tr>\n",
       "    <td></td>       <th>coef</th>     <th>std err</th>      <th>t</th>      <th>P>|t|</th>  <th>[0.025</th>    <th>0.975]</th>  \n",
       "</tr>\n",
       "<tr>\n",
       "  <th>const</th> <td>   37.2851</td> <td>    1.878</td> <td>   19.858</td> <td> 0.000</td> <td>   33.450</td> <td>   41.120</td>\n",
       "</tr>\n",
       "<tr>\n",
       "  <th>wt</th>    <td>   -5.3445</td> <td>    0.559</td> <td>   -9.559</td> <td> 0.000</td> <td>   -6.486</td> <td>   -4.203</td>\n",
       "</tr>\n",
       "</table>\n",
       "<table class=\"simpletable\">\n",
       "<tr>\n",
       "  <th>Omnibus:</th>       <td> 2.988</td> <th>  Durbin-Watson:     </th> <td>   1.252</td>\n",
       "</tr>\n",
       "<tr>\n",
       "  <th>Prob(Omnibus):</th> <td> 0.225</td> <th>  Jarque-Bera (JB):  </th> <td>   2.399</td>\n",
       "</tr>\n",
       "<tr>\n",
       "  <th>Skew:</th>          <td> 0.668</td> <th>  Prob(JB):          </th> <td>   0.301</td>\n",
       "</tr>\n",
       "<tr>\n",
       "  <th>Kurtosis:</th>      <td> 2.877</td> <th>  Cond. No.          </th> <td>    12.7</td>\n",
       "</tr>\n",
       "</table><br/><br/>Warnings:<br/>[1] Standard Errors assume that the covariance matrix of the errors is correctly specified."
      ],
      "text/plain": [
       "<class 'statsmodels.iolib.summary.Summary'>\n",
       "\"\"\"\n",
       "                            OLS Regression Results                            \n",
       "==============================================================================\n",
       "Dep. Variable:                    mpg   R-squared:                       0.753\n",
       "Model:                            OLS   Adj. R-squared:                  0.745\n",
       "Method:                 Least Squares   F-statistic:                     91.38\n",
       "Date:                Sat, 01 Dec 2018   Prob (F-statistic):           1.29e-10\n",
       "Time:                        17:11:42   Log-Likelihood:                -80.015\n",
       "No. Observations:                  32   AIC:                             164.0\n",
       "Df Residuals:                      30   BIC:                             167.0\n",
       "Df Model:                           1                                         \n",
       "Covariance Type:            nonrobust                                         \n",
       "==============================================================================\n",
       "                 coef    std err          t      P>|t|      [0.025      0.975]\n",
       "------------------------------------------------------------------------------\n",
       "const         37.2851      1.878     19.858      0.000      33.450      41.120\n",
       "wt            -5.3445      0.559     -9.559      0.000      -6.486      -4.203\n",
       "==============================================================================\n",
       "Omnibus:                        2.988   Durbin-Watson:                   1.252\n",
       "Prob(Omnibus):                  0.225   Jarque-Bera (JB):                2.399\n",
       "Skew:                           0.668   Prob(JB):                        0.301\n",
       "Kurtosis:                       2.877   Cond. No.                         12.7\n",
       "==============================================================================\n",
       "\n",
       "Warnings:\n",
       "[1] Standard Errors assume that the covariance matrix of the errors is correctly specified.\n",
       "\"\"\""
      ]
     },
     "execution_count": 6,
     "metadata": {},
     "output_type": "execute_result"
    }
   ],
   "source": [
    "import statsmodels.api as sm\n",
    "X  =  cars.wt\n",
    "y  =  cars.mpg\n",
    "\n",
    "X = sm.add_constant(X) # Add an intercept to our model\n",
    "\n",
    "model         = sm.OLS(y, X).fit() ## OLS(output, input)\n",
    "predictions   = model.predict(X)\n",
    "\n",
    "## Print the statistics\n",
    "model.summary()"
   ]
  },
  {
   "cell_type": "code",
   "execution_count": 7,
   "metadata": {},
   "outputs": [
    {
     "name": "stdout",
     "output_type": "stream",
     "text": [
      "SSE = 278.3219 SST = 1126.0472\n",
      "Calculated R squared = 0.753\n"
     ]
    }
   ],
   "source": [
    " # calculate SSE & SST\n",
    "\n",
    "SSE   = 0\n",
    "SST   = 0\n",
    "\n",
    "for i in range(len(predictions)):\n",
    "    SSE    += (predictions[i] - y[i])**2\n",
    "\n",
    "yMean       = np.mean(y)\n",
    "\n",
    "for i in range(len(predictions)):\n",
    "    SST    += (y[i] - yMean)**2\n",
    "\n",
    "print('SSE = %5.4f SST = %5.4f' % (SSE, SST))\n",
    "\n",
    "Rsq = np.round(1 - (SSE / SST),4)\n",
    "\n",
    "print(\"Calculated %s = %1.3f\" % (\"R squared\",Rsq) )     "
   ]
  },
  {
   "cell_type": "markdown",
   "metadata": {},
   "source": [
    "### Interpretation\n",
    "\n",
    "#### The coefficient of -5.3445 means that as the wt variable increases by 1 unit, the predicted value of mpg decreases by 5.3445. \n",
    "\n",
    "* R squared give the percentage of variance our model explains. Our model explains 75.3% of variation\n",
    "* Standard error is the standard deviation of the sampling distribution of a statistic such as mean.\n",
    "* The t scores and p-values for the hypothesis test the wt has statistically significant p-value at 5% level of significance since p-value is less than 5%. \n",
    "* There is a 95% confidence intervals for the wt.\n",
    "\n",
    "** We predict at 95% confidence that the value of wt is between -6.486 and -4.203*"
   ]
  },
  {
   "cell_type": "markdown",
   "metadata": {},
   "source": [
    "### Regression equation is given below:\n",
    "\n",
    "#### mpg = 37.2851 - 5.3345 * wt \n",
    "\n",
    "#### This model explains 75.3% of variation\n",
    "\n",
    "#### When wt increases by 1 unit, the mpg decreases by -5.3445."
   ]
  },
  {
   "cell_type": "markdown",
   "metadata": {},
   "source": [
    "#### e. Predict the mpg of the car for wt = 3000 lbs"
   ]
  },
  {
   "cell_type": "code",
   "execution_count": 8,
   "metadata": {},
   "outputs": [
    {
     "name": "stdout",
     "output_type": "stream",
     "text": [
      "Predicted mpg of the car with weight  3(000 lbs) is 21.25\n"
     ]
    }
   ],
   "source": [
    "new_X = [ 1, 3.0] # Here we give 1 as the constant for the intercept of model and 3 (in '000s) as the weight \n",
    "predictions   = model.predict(new_X)\n",
    "print('Predicted mpg of the car with weight  %d(000 lbs) is %2.2f' % (3.0, np.round(predictions,3)))"
   ]
  },
  {
   "cell_type": "markdown",
   "metadata": {},
   "source": [
    "## 2) Use the Linear Regression in sklearn."
   ]
  },
  {
   "cell_type": "markdown",
   "metadata": {},
   "source": [
    "In order to use linear regression, we need to import linear_model of SKLearn."
   ]
  },
  {
   "cell_type": "code",
   "execution_count": 9,
   "metadata": {
    "collapsed": true
   },
   "outputs": [],
   "source": [
    "from sklearn import linear_model"
   ]
  },
  {
   "cell_type": "code",
   "execution_count": 1,
   "metadata": {},
   "outputs": [],
   "source": [
    "#or\n",
    "from sklearn.linear_model import LinearRegression"
   ]
  },
  {
   "cell_type": "code",
   "execution_count": 2,
   "metadata": {},
   "outputs": [],
   "source": [
    "lm= LinearRegression()"
   ]
  },
  {
   "cell_type": "markdown",
   "metadata": {},
   "source": [
    "#### Fit a model "
   ]
  },
  {
   "cell_type": "code",
   "execution_count": 10,
   "metadata": {
    "collapsed": true
   },
   "outputs": [],
   "source": [
    "X         =  np.array(cars.wt).reshape(-1, 1)\n",
    "y         =  cars.mpg\n",
    "lm        =  linear_model.LinearRegression()\n",
    "model     =  lm.fit(X, y)"
   ]
  },
  {
   "cell_type": "markdown",
   "metadata": {},
   "source": [
    "### Predict the target variable"
   ]
  },
  {
   "cell_type": "code",
   "execution_count": 3,
   "metadata": {},
   "outputs": [
    {
     "ename": "NameError",
     "evalue": "name 'X' is not defined",
     "output_type": "error",
     "traceback": [
      "\u001b[1;31m---------------------------------------------------------------------------\u001b[0m",
      "\u001b[1;31mNameError\u001b[0m                                 Traceback (most recent call last)",
      "\u001b[1;32m<ipython-input-3-8b73a57fd415>\u001b[0m in \u001b[0;36m<module>\u001b[1;34m\u001b[0m\n\u001b[1;32m----> 1\u001b[1;33m \u001b[0mpredictions\u001b[0m \u001b[1;33m=\u001b[0m \u001b[0mlm\u001b[0m\u001b[1;33m.\u001b[0m\u001b[0mpredict\u001b[0m\u001b[1;33m(\u001b[0m\u001b[0mX\u001b[0m\u001b[1;33m)\u001b[0m \u001b[1;31m#yhat values\u001b[0m\u001b[1;33m\u001b[0m\u001b[1;33m\u001b[0m\u001b[0m\n\u001b[0m\u001b[0;32m      2\u001b[0m \u001b[0mpredictions\u001b[0m\u001b[1;33m\u001b[0m\u001b[1;33m\u001b[0m\u001b[0m\n",
      "\u001b[1;31mNameError\u001b[0m: name 'X' is not defined"
     ]
    }
   ],
   "source": [
    "predictions = lm.predict(X) #yhat values\n",
    "predictions"
   ]
  },
  {
   "cell_type": "markdown",
   "metadata": {},
   "source": [
    "### To get the $R^2$ score of the model, use"
   ]
  },
  {
   "cell_type": "code",
   "execution_count": 12,
   "metadata": {},
   "outputs": [
    {
     "name": "stdout",
     "output_type": "stream",
     "text": [
      "R square is 0.753\n"
     ]
    }
   ],
   "source": [
    "print('R square is %1.3f' %lm.score(X, y)) #Rsquare"
   ]
  },
  {
   "cell_type": "markdown",
   "metadata": {},
   "source": [
    "### To check the coefficients of the predictors, use"
   ]
  },
  {
   "cell_type": "code",
   "execution_count": 13,
   "metadata": {},
   "outputs": [
    {
     "name": "stdout",
     "output_type": "stream",
     "text": [
      "Coefficient for wt is -5.3445\n"
     ]
    }
   ],
   "source": [
    "b1 = np.round(lm.coef_,4) #b1,b2,b3...bn\n",
    "print('Coefficient for wt is %5.4f' %b1)"
   ]
  },
  {
   "cell_type": "markdown",
   "metadata": {},
   "source": [
    "### To get the intercept"
   ]
  },
  {
   "cell_type": "code",
   "execution_count": 14,
   "metadata": {},
   "outputs": [
    {
     "name": "stdout",
     "output_type": "stream",
     "text": [
      "Intercept is 37.2851\n"
     ]
    }
   ],
   "source": [
    "print('Intercept is %5.4f' %lm.intercept_)  #b0"
   ]
  },
  {
   "cell_type": "markdown",
   "metadata": {
    "collapsed": true
   },
   "source": [
    "## Residual plots"
   ]
  },
  {
   "cell_type": "markdown",
   "metadata": {},
   "source": [
    "#### Residual plot is a scatter plot of fitted values against the residuals, with a *locally weighted scatterplot smoothing (lowess)* regression line showing any apparent trend.\n",
    "\n",
    "#### Using seaborn, residplot() with fitted values as x parameter, and the dependent variable as y.  The argument, lowless = True makes sure the lowess regression line is drawn.\n",
    "\n",
    "\n"
   ]
  },
  {
   "cell_type": "markdown",
   "metadata": {},
   "source": [
    "+ *Lowess stands for Locally wighted least sqaures.*\n",
    "+ *Lowess is a data analysis technique for producing a **Smooth** set of values from a scatter plot with a *noisy* relationship between the two variables.\n"
   ]
  },
  {
   "cell_type": "markdown",
   "metadata": {},
   "source": [
    "### Example 2\n",
    "\n",
    "Construct a residual plot for example 1."
   ]
  },
  {
   "cell_type": "code",
   "execution_count": 23,
   "metadata": {
    "collapsed": true
   },
   "outputs": [],
   "source": [
    "sns.set(style=\"whitegrid\")\n",
    "import statsmodels.api as sm\n",
    "X  =  cars.wt\n",
    "y  =  cars.mpg\n",
    "\n",
    "X = sm.add_constant(X) # Add an intercept to our model\n",
    "\n",
    "model                 = sm.OLS(y, X).fit() ## OLS(output, input)\n",
    "cars['predictions']   = model.predict(X)\n",
    "residuals             = model.resid"
   ]
  },
  {
   "cell_type": "code",
   "execution_count": 24,
   "metadata": {},
   "outputs": [
    {
     "data": {
      "image/png": "[encoded data removed]",
      "text/plain": [
       "<matplotlib.figure.Figure at 0x1dd2aab6898>"
      ]
     },
     "metadata": {},
     "output_type": "display_data"
    }
   ],
   "source": [
    "# Plot the residuals after fitting a linear model\n",
    "ax = sns.residplot(cars.predictions, residuals, lowess = True, color = \"g\")\n",
    "ax.set(xlabel='Fitted Value', ylabel='Residuals', title = 'Residual Vs Fitted values PLOT \\n')\n",
    "plt.show()"
   ]
  },
  {
   "cell_type": "markdown",
   "metadata": {},
   "source": [
    "### Draw a histogram of the residuals"
   ]
  },
  {
   "cell_type": "code",
   "execution_count": 25,
   "metadata": {},
   "outputs": [
    {
     "data": {
      "image/png": "[encoded data removed]",
      "text/plain": [
       "<matplotlib.figure.Figure at 0x1dd2ab4f198>"
      ]
     },
     "metadata": {},
     "output_type": "display_data"
    }
   ],
   "source": [
    "sns.set(style=\"whitegrid\")\n",
    "sns.distplot(residuals)\n",
    "\n",
    "plt.grid(axis = 'y', alpha = 0.75)\n",
    "plt.xlabel('Residuals Value')\n",
    "plt.ylabel('Probability density') # It is the probability per unit on the x-axis.\n",
    "\n",
    "mean     =   residuals.mean()\n",
    "\n",
    "plt.title('Histogram of residuals and KDE plot with ' + r'$\\mu = $' + str(np.round(mean,17)))\n",
    "plt.show()"
   ]
  },
  {
   "cell_type": "markdown",
   "metadata": {},
   "source": [
    "### Ideal Plot\n",
    "\n",
    "We expect the **random errors** to produce residuals that are normally distributed. So, the residuals should fall in a *symmetrical pattern and have a constant spread throughout the range*. \n",
    "\n",
    "#### Inference\n",
    "\n",
    "In the above plot, we can predict non-zero values for the residuals based on the fitted value. For example, values upto 10 and above 25 produce non-zero values for the residuals.\n",
    "\n",
    "The non-random pattern in the residuals indicates that the predictor variables of the model is not capturing some explanatory information getting into the residuals."
   ]
  },
  {
   "cell_type": "markdown",
   "metadata": {},
   "source": [
    "### Increase predictors to the regression model"
   ]
  },
  {
   "cell_type": "markdown",
   "metadata": {
    "collapsed": true
   },
   "source": [
    "#### R square is the proportional improvement in prediction from the regression model compared to the mean model and thus indicates the goodness of fit of the model.\n",
    "\n",
    "* R square can only increase as predictors or independent variables are added to the regression model. \n",
    "* The increase is artificial when predictors are not actually improving the model's fit. \n",
    "* Adjusted R square incorporates the model's degrees of freedom in such a way that Adjusted R square will decrease as predictors are added if the decrease in model fit does not make up for the loss of degrees of freedom.\n",
    "\n",
    "https://www.theanalysisfactor.com/assessing-the-fit-of-regression-models/\n"
   ]
  },
  {
   "cell_type": "markdown",
   "metadata": {},
   "source": [
    "### Example\n",
    "\n",
    "\n",
    "#### Let us try with two predictors for the example 1."
   ]
  },
  {
   "cell_type": "code",
   "execution_count": 40,
   "metadata": {},
   "outputs": [
    {
     "name": "stdout",
     "output_type": "stream",
     "text": [
      "                     const     wt   disp\n",
      "Mazda RX4              1.0  2.620  160.0\n",
      "Mazda RX4 Wag          1.0  2.875  160.0\n",
      "Datsun 710             1.0  2.320  108.0\n",
      "Hornet 4 Drive         1.0  3.215  258.0\n",
      "Hornet Sportabout      1.0  3.440  360.0\n",
      "Valiant                1.0  3.460  225.0\n",
      "Duster 360             1.0  3.570  360.0\n",
      "Merc 240D              1.0  3.190  146.7\n",
      "Merc 230               1.0  3.150  140.8\n",
      "Merc 280               1.0  3.440  167.6\n",
      "Merc 280C              1.0  3.440  167.6\n",
      "Merc 450SE             1.0  4.070  275.8\n",
      "Merc 450SL             1.0  3.730  275.8\n",
      "Merc 450SLC            1.0  3.780  275.8\n",
      "Cadillac Fleetwood     1.0  5.250  472.0\n",
      "Lincoln Continental    1.0  5.424  460.0\n",
      "Chrysler Imperial      1.0  5.345  440.0\n",
      "Fiat 128               1.0  2.200   78.7\n",
      "Honda Civic            1.0  1.615   75.7\n",
      "Toyota Corolla         1.0  1.835   71.1\n",
      "Toyota Corona          1.0  2.465  120.1\n",
      "Dodge Challenger       1.0  3.520  318.0\n",
      "AMC Javelin            1.0  3.435  304.0\n",
      "Camaro Z28             1.0  3.840  350.0\n",
      "Pontiac Firebird       1.0  3.845  400.0\n",
      "Fiat X1-9              1.0  1.935   79.0\n",
      "Porsche 914-2          1.0  2.140  120.3\n",
      "Lotus Europa           1.0  1.513   95.1\n",
      "Ford Pantera L         1.0  3.170  351.0\n",
      "Ferrari Dino           1.0  2.770  145.0\n",
      "Maserati Bora          1.0  3.570  301.0\n",
      "Volvo 142E             1.0  2.780  121.0\n"
     ]
    }
   ],
   "source": [
    "import statsmodels.api   as sm\n",
    "import scipy.stats       as stats\n",
    "import matplotlib.pyplot as plt\n",
    "\n",
    "X  =  cars[[\"wt\", \"disp\"]]\n",
    "y  =  cars.mpg\n",
    "\n",
    "X = sm.add_constant(X) # Add an intercept to our model\n",
    "print(X)"
   ]
  },
  {
   "cell_type": "code",
   "execution_count": 41,
   "metadata": {},
   "outputs": [
    {
     "data": {
      "text/html": [
       "<table class=\"simpletable\">\n",
       "<caption>OLS Regression Results</caption>\n",
       "<tr>\n",
       "  <th>Dep. Variable:</th>           <td>mpg</td>       <th>  R-squared:         </th> <td>   0.781</td>\n",
       "</tr>\n",
       "<tr>\n",
       "  <th>Model:</th>                   <td>OLS</td>       <th>  Adj. R-squared:    </th> <td>   0.766</td>\n",
       "</tr>\n",
       "<tr>\n",
       "  <th>Method:</th>             <td>Least Squares</td>  <th>  F-statistic:       </th> <td>   51.69</td>\n",
       "</tr>\n",
       "<tr>\n",
       "  <th>Date:</th>             <td>Sat, 01 Dec 2018</td> <th>  Prob (F-statistic):</th> <td>2.74e-10</td>\n",
       "</tr>\n",
       "<tr>\n",
       "  <th>Time:</th>                 <td>17:11:48</td>     <th>  Log-Likelihood:    </th> <td> -78.084</td>\n",
       "</tr>\n",
       "<tr>\n",
       "  <th>No. Observations:</th>      <td>    32</td>      <th>  AIC:               </th> <td>   162.2</td>\n",
       "</tr>\n",
       "<tr>\n",
       "  <th>Df Residuals:</th>          <td>    29</td>      <th>  BIC:               </th> <td>   166.6</td>\n",
       "</tr>\n",
       "<tr>\n",
       "  <th>Df Model:</th>              <td>     2</td>      <th>                     </th>     <td> </td>   \n",
       "</tr>\n",
       "<tr>\n",
       "  <th>Covariance Type:</th>      <td>nonrobust</td>    <th>                     </th>     <td> </td>   \n",
       "</tr>\n",
       "</table>\n",
       "<table class=\"simpletable\">\n",
       "<tr>\n",
       "    <td></td>       <th>coef</th>     <th>std err</th>      <th>t</th>      <th>P>|t|</th>  <th>[0.025</th>    <th>0.975]</th>  \n",
       "</tr>\n",
       "<tr>\n",
       "  <th>const</th> <td>   34.9606</td> <td>    2.165</td> <td>   16.151</td> <td> 0.000</td> <td>   30.534</td> <td>   39.388</td>\n",
       "</tr>\n",
       "<tr>\n",
       "  <th>wt</th>    <td>   -3.3508</td> <td>    1.164</td> <td>   -2.878</td> <td> 0.007</td> <td>   -5.732</td> <td>   -0.970</td>\n",
       "</tr>\n",
       "<tr>\n",
       "  <th>disp</th>  <td>   -0.0177</td> <td>    0.009</td> <td>   -1.929</td> <td> 0.064</td> <td>   -0.037</td> <td>    0.001</td>\n",
       "</tr>\n",
       "</table>\n",
       "<table class=\"simpletable\">\n",
       "<tr>\n",
       "  <th>Omnibus:</th>       <td> 4.079</td> <th>  Durbin-Watson:     </th> <td>   1.277</td>\n",
       "</tr>\n",
       "<tr>\n",
       "  <th>Prob(Omnibus):</th> <td> 0.130</td> <th>  Jarque-Bera (JB):  </th> <td>   3.665</td>\n",
       "</tr>\n",
       "<tr>\n",
       "  <th>Skew:</th>          <td> 0.812</td> <th>  Prob(JB):          </th> <td>   0.160</td>\n",
       "</tr>\n",
       "<tr>\n",
       "  <th>Kurtosis:</th>      <td> 2.666</td> <th>  Cond. No.          </th> <td>1.21e+03</td>\n",
       "</tr>\n",
       "</table><br/><br/>Warnings:<br/>[1] Standard Errors assume that the covariance matrix of the errors is correctly specified.<br/>[2] The condition number is large, 1.21e+03. This might indicate that there are<br/>strong multicollinearity or other numerical problems."
      ],
      "text/plain": [
       "<class 'statsmodels.iolib.summary.Summary'>\n",
       "\"\"\"\n",
       "                            OLS Regression Results                            \n",
       "==============================================================================\n",
       "Dep. Variable:                    mpg   R-squared:                       0.781\n",
       "Model:                            OLS   Adj. R-squared:                  0.766\n",
       "Method:                 Least Squares   F-statistic:                     51.69\n",
       "Date:                Sat, 01 Dec 2018   Prob (F-statistic):           2.74e-10\n",
       "Time:                        17:11:48   Log-Likelihood:                -78.084\n",
       "No. Observations:                  32   AIC:                             162.2\n",
       "Df Residuals:                      29   BIC:                             166.6\n",
       "Df Model:                           2                                         \n",
       "Covariance Type:            nonrobust                                         \n",
       "==============================================================================\n",
       "                 coef    std err          t      P>|t|      [0.025      0.975]\n",
       "------------------------------------------------------------------------------\n",
       "const         34.9606      2.165     16.151      0.000      30.534      39.388\n",
       "wt            -3.3508      1.164     -2.878      0.007      -5.732      -0.970\n",
       "disp          -0.0177      0.009     -1.929      0.064      -0.037       0.001\n",
       "==============================================================================\n",
       "Omnibus:                        4.079   Durbin-Watson:                   1.277\n",
       "Prob(Omnibus):                  0.130   Jarque-Bera (JB):                3.665\n",
       "Skew:                           0.812   Prob(JB):                        0.160\n",
       "Kurtosis:                       2.666   Cond. No.                     1.21e+03\n",
       "==============================================================================\n",
       "\n",
       "Warnings:\n",
       "[1] Standard Errors assume that the covariance matrix of the errors is correctly specified.\n",
       "[2] The condition number is large, 1.21e+03. This might indicate that there are\n",
       "strong multicollinearity or other numerical problems.\n",
       "\"\"\""
      ]
     },
     "execution_count": 41,
     "metadata": {},
     "output_type": "execute_result"
    }
   ],
   "source": [
    "model         = sm.OLS(y, X).fit() ## OLS(output, input)\n",
    "predictions   = model.predict(X)\n",
    "\n",
    "## Print the statistics\n",
    "model.summary()"
   ]
  },
  {
   "cell_type": "markdown",
   "metadata": {},
   "source": [
    "### You may observe that both the $R^2$ and Adjusted $R^2$ has increased from what we have seen in exampe 1.\n",
    "* Regression Model with two predictors  $R^2$ is 0.781 while it is 0.753 with one predictor.\n",
    "* Regression Model with two predictors  $Adjusted R^2$ is 0.766 while it is 0.745 with one predictor.\n"
   ]
  },
  {
   "cell_type": "markdown",
   "metadata": {},
   "source": [
    "### Regression equation is given below:\n",
    "\n",
    "#### mpg = 34.9606 - 3.3508 * wt  - 0.0177  * disp\n",
    "\n",
    "#### This model explains 76.6% of variation (using Adj R sq).\n",
    "\n",
    "#### Other variables remaining constant, when wt increases by 1 unit, the mpg decreases by 3.3508.\n",
    "\n",
    "#### Other variables remaining constant, when disp increases by 1 unit, the mpg decreases by 0.0177."
   ]
  },
  {
   "cell_type": "markdown",
   "metadata": {},
   "source": [
    "####  In class lab : Practice Exercise"
   ]
  },
  {
   "cell_type": "markdown",
   "metadata": {},
   "source": [
    "Try with three predictors for the example 5 by adding one more variable, qsec.\n",
    "Confirm whether predictors are actually improving the model's fit by comparing R square and Adjusted R square."
   ]
  },
  {
   "cell_type": "markdown",
   "metadata": {
    "collapsed": true
   },
   "source": [
    "## END"
   ]
  }
 ],
 "metadata": {
  "kernelspec": {
   "display_name": "Python 3",
   "language": "python",
   "name": "python3"
  },
  "language_info": {
   "codemirror_mode": {
    "name": "ipython",
    "version": 3
   },
   "file_extension": ".py",
   "mimetype": "text/x-python",
   "name": "python",
   "nbconvert_exporter": "python",
   "pygments_lexer": "ipython3",
   "version": "3.7.1"
  }
 },
 "nbformat": 4,
 "nbformat_minor": 2
}
